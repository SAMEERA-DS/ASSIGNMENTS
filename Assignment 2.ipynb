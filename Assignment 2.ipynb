{
 "cells": [
  {
   "cell_type": "markdown",
   "metadata": {},
   "source": [
    "# ASSIGNMENT 2"
   ]
  },
  {
   "cell_type": "markdown",
   "metadata": {},
   "source": [
    "## TASK 1"
   ]
  },
  {
   "cell_type": "markdown",
   "metadata": {},
   "source": [
    "### Question 1.1"
   ]
  },
  {
   "cell_type": "markdown",
   "metadata": {},
   "source": [
    "Write a Python Program to implement your own myreduce() function which works exactly like\n",
    "Python's built-in function reduce()"
   ]
  },
  {
   "cell_type": "code",
   "execution_count": 1,
   "metadata": {},
   "outputs": [],
   "source": [
    "# custom myreduce function\n",
    "def myreduce(fun,seq):\n",
    "    a=seq[0]\n",
    "    for i in seq[1:]:\n",
    "        a=fun(i,a)\n",
    "    return a"
   ]
  },
  {
   "cell_type": "code",
   "execution_count": 2,
   "metadata": {},
   "outputs": [
    {
     "data": {
      "text/plain": [
       "120"
      ]
     },
     "execution_count": 2,
     "metadata": {},
     "output_type": "execute_result"
    }
   ],
   "source": [
    "# checking myreduce function\n",
    "def mul(x,y):\n",
    "    return(x*y)\n",
    "seq=[1,2,3,4,5]\n",
    "myreduce(mul,seq)"
   ]
  },
  {
   "cell_type": "markdown",
   "metadata": {},
   "source": [
    "### Question 1.2"
   ]
  },
  {
   "cell_type": "markdown",
   "metadata": {},
   "source": [
    "Write a Python program to implement your own myfilter() function which works exactly like\n",
    "Python's built-in function filter()"
   ]
  },
  {
   "cell_type": "code",
   "execution_count": 3,
   "metadata": {},
   "outputs": [],
   "source": [
    "# custom filter function\n",
    "def myfilter(fun,seq):\n",
    "    a=[]\n",
    "    for i in seq:\n",
    "        if fun(i) == True:\n",
    "            a.append(i)\n",
    "    return a"
   ]
  },
  {
   "cell_type": "code",
   "execution_count": 4,
   "metadata": {},
   "outputs": [
    {
     "data": {
      "text/plain": [
       "[0, 5]"
      ]
     },
     "execution_count": 4,
     "metadata": {},
     "output_type": "execute_result"
    }
   ],
   "source": [
    "# checking myfilter function\n",
    "def check(x):\n",
    "    if x<10:\n",
    "        return True\n",
    "    else:\n",
    "        return False\n",
    "seq=[0,5,10,15,20]\n",
    "myfilter(check,seq)"
   ]
  },
  {
   "cell_type": "markdown",
   "metadata": {},
   "source": [
    "### Question 2"
   ]
  },
  {
   "cell_type": "markdown",
   "metadata": {},
   "source": [
    "Implement List comprehensions to produce the following lists.\\\n",
    "Write List comprehensions to produce the following Lists\\\n",
    "['A', 'C', 'A', 'D', 'G', 'I', ’L’, ‘ D’]\\\n",
    "['x', 'xx', 'xxx', 'xxxx', 'y', 'yy', 'yyy', 'yyyy', 'z', 'zz', 'zzz', 'zzzz']\\\n",
    "['x', 'y', 'z', 'xx', 'yy', 'zz', 'xx', 'yy', 'zz', 'xxxx', 'yyyy', 'zzzz']\\\n",
    "[[2], [3], [4], [3], [4], [5], [4], [5], [6]]\\\n",
    "[[2, 3, 4, 5], [3, 4, 5, 6], [4, 5, 6, 7], [5, 6, 7, 8]]\\\n",
    "[(1, 1), (2, 1), (3, 1), (1, 2), (2, 2), (3, 2), (1, 3), (2, 3), (3, 3)]"
   ]
  },
  {
   "cell_type": "code",
   "execution_count": 5,
   "metadata": {},
   "outputs": [
    {
     "name": "stdout",
     "output_type": "stream",
     "text": [
      "['A', 'C', 'A', 'D', 'G', 'I', 'L', 'D']\n",
      "['x', 'xx', 'xxx', 'xxxx', 'y', 'yy', 'yyy', 'yyyy', 'z', 'zz', 'zzz', 'zzzz']\n",
      "['x', 'y', 'z', 'xx', 'yy', 'zz', 'xxx', 'yyy', 'zzz']\n",
      "[[2], [3], [4], [3], [4], [5], [4], [5], [6]]\n",
      "[[2, 3, 4, 5], [3, 4, 5, 6], [4, 5, 6, 7], [5, 6, 7, 8]]\n",
      "[(1, 1), (2, 1), (3, 1), (1, 2), (2, 2), (3, 2), (1, 3), (2, 3), (3, 3)]\n"
     ]
    }
   ],
   "source": [
    "a=\"ACADGILD\"\n",
    "list1=[i for i in a]\n",
    "print(list1)\n",
    "b=[\"x\",\"y\",\"z\"]\n",
    "list2=[i*n for i in b for n in range(1,5)]\n",
    "print(list2)\n",
    "list3=[i*n for n in range(1,4) for i in b]\n",
    "print(list3)\n",
    "c=[2,3,4]\n",
    "list4=[[i+n] for i in c for n in range(0,3)]\n",
    "print(list4)\n",
    "d=[2,3,4,5]\n",
    "list5=[[i+n for i in d] for n in range(0,4)]\n",
    "print(list5)\n",
    "e=[1,2,3]\n",
    "list6=[(i,j) for j in e for i in range(1,4)]\n",
    "print(list6)"
   ]
  },
  {
   "cell_type": "markdown",
   "metadata": {},
   "source": [
    "### Question 3"
   ]
  },
  {
   "cell_type": "markdown",
   "metadata": {},
   "source": [
    "Implement a function longestWord() that takes a list of words and returns the longest one."
   ]
  },
  {
   "cell_type": "code",
   "execution_count": 6,
   "metadata": {},
   "outputs": [],
   "source": [
    "# creating longest word function \n",
    "def longestword(x):\n",
    "    longest_word = max(x, key = len)\n",
    "    return longest_word, len(longest_word)"
   ]
  },
  {
   "cell_type": "code",
   "execution_count": 7,
   "metadata": {},
   "outputs": [
    {
     "data": {
      "text/plain": [
       "('abcdefghijkl', 12)"
      ]
     },
     "execution_count": 7,
     "metadata": {},
     "output_type": "execute_result"
    }
   ],
   "source": [
    "# checking longest word function\n",
    "z=[\"abc\",\"abcd\",\"abcde\",\"abcdefghijkl\"]\n",
    "longestword(z)"
   ]
  },
  {
   "cell_type": "markdown",
   "metadata": {},
   "source": [
    "## TASK 2"
   ]
  },
  {
   "cell_type": "markdown",
   "metadata": {},
   "source": [
    "### Question 1.1"
   ]
  },
  {
   "cell_type": "markdown",
   "metadata": {},
   "source": [
    "Write a Python Program(with class concepts) to find the area of the triangle using the below formula.\\\n",
    "area = (s*(s-a)*(s-b)*(s-c))*** 0.5\\\n",
    "Function to take the length of the sides of triangle from user should be defined in the parent\n",
    "class and function to calculate the area should be defined in subclass."
   ]
  },
  {
   "cell_type": "code",
   "execution_count": 8,
   "metadata": {},
   "outputs": [
    {
     "name": "stdout",
     "output_type": "stream",
     "text": [
      "enter value of side a:2\n",
      "enter value of side b:3\n",
      "enter value of side c:4\n",
      "2.9\n"
     ]
    }
   ],
   "source": [
    "class Triangle():\n",
    "    def __init__(self,a,b,c):\n",
    "        self.a=float(a)\n",
    "        self.b=float(b)\n",
    "        self.c=float(c)\n",
    "\n",
    "a=int(input(\"enter value of side a:\"))\n",
    "b=int(input(\"enter value of side b:\"))\n",
    "c=int(input(\"enter value of side c:\"))\n",
    "\n",
    "class Area(Triangle):\n",
    "    def area(self,*args):\n",
    "        super(Area,self).__init__(a,b,c)\n",
    "        self.s=(self.a+self.b+self.c)/2\n",
    "        self.area=(self.s*(self.s-self.a)*(self.s-self.b)*(self.s-self.c))**0.5\n",
    "        return(self.area)\n",
    "\n",
    "x=Area(a,b,c)\n",
    "print(round(x.area(),2))"
   ]
  },
  {
   "cell_type": "markdown",
   "metadata": {},
   "source": [
    "### Question 1.2"
   ]
  },
  {
   "cell_type": "markdown",
   "metadata": {},
   "source": [
    "Write a function filter_long_words() that takes a list of words and an integer n and returns the list\n",
    "of words that are longer than n."
   ]
  },
  {
   "cell_type": "code",
   "execution_count": 9,
   "metadata": {},
   "outputs": [],
   "source": [
    "# creating filter_long_words function\n",
    "def filter_long_words(x,n):\n",
    "    a=[]\n",
    "    for i in x:\n",
    "        if len(i)>n:\n",
    "            a.append(i)\n",
    "    return(a)"
   ]
  },
  {
   "cell_type": "code",
   "execution_count": 10,
   "metadata": {},
   "outputs": [
    {
     "data": {
      "text/plain": [
       "['njbhsbv', 'isguybh', 'uerakgvasku']"
      ]
     },
     "execution_count": 10,
     "metadata": {},
     "output_type": "execute_result"
    }
   ],
   "source": [
    "# checking filter_long_words function\n",
    "x=[\"abd\",\"s\",\"fikh\",\"njbhsbv\",\"isguybh\",\"uerakgvasku\"]\n",
    "filter_long_words(x,5)"
   ]
  },
  {
   "cell_type": "markdown",
   "metadata": {},
   "source": [
    "### Question 2.1"
   ]
  },
  {
   "cell_type": "markdown",
   "metadata": {},
   "source": [
    "Write a Python program using function concept that maps list of words into a list of integers\n",
    "representing the lengths of the corresponding words.\\\n",
    "<b>Hint:</b> If a list [ ab,cde,erty] is passed on to the python function output should come as [2,3,4]\n",
    "Here 2,3 and 4 are the lengths of the words in the list."
   ]
  },
  {
   "cell_type": "code",
   "execution_count": 11,
   "metadata": {},
   "outputs": [],
   "source": [
    "# creating length mapping function\n",
    "def length(x):\n",
    "    a=[]\n",
    "    for i in x:\n",
    "        a.append(len(i))\n",
    "    return(a)"
   ]
  },
  {
   "cell_type": "code",
   "execution_count": 12,
   "metadata": {},
   "outputs": [
    {
     "data": {
      "text/plain": [
       "[1, 2, 3, 4, 5]"
      ]
     },
     "execution_count": 12,
     "metadata": {},
     "output_type": "execute_result"
    }
   ],
   "source": [
    "# checking above created function\n",
    "x=[\"a\",\"ab\",\"abc\",\"abcd\",\"abcde\"]\n",
    "length(x)"
   ]
  },
  {
   "cell_type": "markdown",
   "metadata": {},
   "source": [
    "### Question 2.2"
   ]
  },
  {
   "cell_type": "markdown",
   "metadata": {},
   "source": [
    "Write a Python function which takes a character (i.e. a string of length 1) and returns True if it is\n",
    "a vowel, False otherwise."
   ]
  },
  {
   "cell_type": "code",
   "execution_count": 13,
   "metadata": {},
   "outputs": [],
   "source": [
    "# creating vowel check function\n",
    "def vowel(char):\n",
    "    vowels=\"aeiou\"\n",
    "    if char in vowels:\n",
    "        return \"The given char is vowel\"\n",
    "    else:\n",
    "        return \"The given char is consonant\""
   ]
  },
  {
   "cell_type": "code",
   "execution_count": 14,
   "metadata": {},
   "outputs": [
    {
     "name": "stdout",
     "output_type": "stream",
     "text": [
      "The given char is consonant\n",
      "The given char is vowel\n"
     ]
    }
   ],
   "source": [
    "# checking vowel function\n",
    "print(vowel(\"c\"))\n",
    "print(vowel(\"a\"))"
   ]
  }
 ],
 "metadata": {
  "kernelspec": {
   "display_name": "Python 3",
   "language": "python",
   "name": "python3"
  },
  "language_info": {
   "codemirror_mode": {
    "name": "ipython",
    "version": 3
   },
   "file_extension": ".py",
   "mimetype": "text/x-python",
   "name": "python",
   "nbconvert_exporter": "python",
   "pygments_lexer": "ipython3",
   "version": "3.7.3"
  }
 },
 "nbformat": 4,
 "nbformat_minor": 2
}
